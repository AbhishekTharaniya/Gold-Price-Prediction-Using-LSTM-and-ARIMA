{
 "cells": [
  {
   "cell_type": "code",
   "execution_count": null,
   "id": "3afe848b",
   "metadata": {},
   "outputs": [],
   "source": [
    "import numpy as np\n",
    "import pandas as pd\n",
    "import matplotlib.pyplot as plt\n",
    "from matplotlib.pylab import rcParams\n",
    "import seaborn as sns\n",
    "rcParams['figure.figsize'] = (14,8)\n",
    "sns.set_style('darkgrid')\n",
    "\n",
    "\n",
    "from statsmodels.graphics.tsaplots import plot_acf,plot_pacf\n",
    "from statsmodels.tsa.seasonal import seasonal_decompose\n",
    "from statsmodels.tsa.statespace.sarimax import SARIMAX\n",
    "from statsmodels.tsa.arima.model import ARIMA\n",
    "from statsmodels.tsa.stattools import adfuller\n",
    "\n",
    "import warnings\n",
    "warnings.filterwarnings('ignore')"
   ]
  },
  {
   "cell_type": "code",
   "execution_count": null,
   "id": "f6aadca6",
   "metadata": {},
   "outputs": [],
   "source": [
    "df = pd.read_csv(\"C:/Users/Abhishek/anaconda3/DS/gold.csv\")\n",
    "df.Date = pd.to_datetime(df.Date,dayfirst=True)\n",
    "df.set_index('Date',inplace=True)\n",
    "df = df.asfreq('b','ffill')\n",
    "del df['Currency']\n",
    "df.head(5)"
   ]
  },
  {
   "cell_type": "code",
   "execution_count": null,
   "id": "4e3b52f1",
   "metadata": {},
   "outputs": [],
   "source": [
    "df.info()"
   ]
  },
  {
   "cell_type": "code",
   "execution_count": null,
   "id": "12de420e",
   "metadata": {},
   "outputs": [],
   "source": [
    "df.describe().T"
   ]
  },
  {
   "cell_type": "code",
   "execution_count": null,
   "id": "d1b349bf",
   "metadata": {},
   "outputs": [],
   "source": [
    "data = df[df.index > '2021']"
   ]
  },
  {
   "cell_type": "code",
   "execution_count": null,
   "id": "430dd12c",
   "metadata": {},
   "outputs": [],
   "source": [
    "fig,axes = plt.subplots(2,2,figsize=[15,7])\n",
    "\n",
    "axes[0,0].plot(data.Close)\n",
    "axes[0,0].set_title(\"Daily\",size=16)\n",
    "\n",
    "axes[0,1].plot(data.Close.resample('M').mean())\n",
    "axes[0,1].set_title(\"Monthly\",size=16)\n",
    "\n",
    "\n",
    "axes[1,0].plot(data.Close.resample('Q').mean())\n",
    "axes[1,0].set_title('Quarterly',size=16)\n",
    "\n",
    "axes[1,1].plot(data.Close.resample('A').mean())\n",
    "axes[1,1].set_title('Annualy',size=16)\n",
    "\n",
    "plt.tight_layout()\n",
    "plt.show()\n"
   ]
  },
  {
   "cell_type": "code",
   "execution_count": null,
   "id": "c075b08f",
   "metadata": {},
   "outputs": [],
   "source": [
    "decompose_result = seasonal_decompose(data['Close'])\n",
    "trend = decompose_result.trend\n",
    "seasonal = decompose_result.seasonal\n",
    "residual = decompose_result.resid\n",
    "decompose_result.plot();"
   ]
  },
  {
   "cell_type": "code",
   "execution_count": null,
   "id": "53557deb",
   "metadata": {},
   "outputs": [],
   "source": [
    "def stationarity_check(series):\n",
    "    print('Results of Dickey Fuller Test:')\n",
    "    dftest = adfuller(series, autolag='AIC') \n",
    "\n",
    "    dfoutput = pd.Series(dftest[0:4], index=['Test Statistic','p-value',\n",
    "                                             '#Lags Used','Number of Observations Used'])\n",
    "    for key,value in dftest[4].items():\n",
    "        dfoutput['Critical Value (%s)'%key] = value\n",
    "        \n",
    "    print(dfoutput)"
   ]
  },
  {
   "cell_type": "code",
   "execution_count": null,
   "id": "4989039c",
   "metadata": {},
   "outputs": [],
   "source": [
    "def plot_rolling_stats(series,window):\n",
    "    \n",
    "    rol_mean = series.rolling(window).mean()\n",
    "    rol_std  = series.rolling(window).std()\n",
    "    \n",
    "    \n",
    "    fig = plt.figure(figsize=(10,5))\n",
    "    orig = plt.plot(series,color='blue',label='Original')\n",
    "    mean = plt.plot(rol_mean,color='red',label='Rolling mean')\n",
    "    std  = plt.plot(rol_std,color='black',label='Rolling std')\n",
    "    \n",
    "    plt.title('Rolling Mean/Standard Deviation',size=20)\n",
    "    plt.legend(loc='best')\n",
    "    plt.show(block=False)"
   ]
  },
  {
   "cell_type": "code",
   "execution_count": null,
   "id": "083991db",
   "metadata": {},
   "outputs": [],
   "source": [
    "plot_rolling_stats(data.Close,30)\n",
    "stationarity_check(data.Close)"
   ]
  },
  {
   "cell_type": "code",
   "execution_count": null,
   "id": "5363454e",
   "metadata": {},
   "outputs": [],
   "source": [
    "plot_rolling_stats(data.Close.diff()[1:],30)\n",
    "stationarity_check(data.Close.diff()[1:]"
   ]
  },
  {
   "cell_type": "code",
   "execution_count": null,
   "id": "a14fc36c",
   "metadata": {},
   "outputs": [],
   "source": [
    "fig = plt.figure(figsize=(14,5))\n",
    "ax_1 = fig.add_subplot(121)\n",
    "plot_pacf(data.Close,lags=20,zero=False,ax=ax_1)\n",
    "\n",
    "ax_2 = fig.add_subplot(122)\n",
    "plot_acf(data.Close,lags=20,zero=False,ax=ax_2);"
   ]
  },
  {
   "cell_type": "code",
   "execution_count": null,
   "id": "0a553bd1",
   "metadata": {},
   "outputs": [],
   "source": [
    "class Data:\n",
    "    def __init__(self,dataset,window,forecast_steps=1):\n",
    "        self.dataset = dataset\n",
    "        self.window = window\n",
    "        self.steps = forecast_steps\n",
    "        self.index = 0\n",
    "    \n",
    "    def get_train(self):\n",
    "        training_data = self.dataset[self.index:self.index+self.window]\n",
    "        return training_data.values\n",
    "    \n",
    "    def get_test(self):\n",
    "        test_index = self.index+self.window\n",
    "        test_data = self.dataset[test_index:test_index+self.steps]\n",
    "        return test_data.values\n",
    "    \n",
    "    def get_data(self):\n",
    "        train = self.get_train() \n",
    "        test  = self.get_test()\n",
    "        self.index+= self.steps\n",
    "        return train, test"
   ]
  },
  {
   "cell_type": "code",
   "execution_count": null,
   "id": "524ebc8a",
   "metadata": {},
   "outputs": [],
   "source": [
    "steps = 1 ## day ahead\n",
    "window = 5 ## business week\n",
    "\n",
    "iterations = int(len(data.Close[window:])/steps)\n",
    "predictions = []\n",
    "\n",
    "dataset = Data(data.Close,window,steps)\n",
    "try:\n",
    "    for _ in range(iterations):\n",
    "        train,test = dataset.get_data()\n",
    "        model = ARIMA(train,order=(2,1,1)).fit()\n",
    "        predictions.append(model.forecast(steps=steps)[0]) \n",
    "except IndexError:\n",
    "    print('problem')"
   ]
  },
  {
   "cell_type": "code",
   "execution_count": null,
   "id": "45320124",
   "metadata": {},
   "outputs": [],
   "source": [
    "date_index = pd.date_range(start='2021-01-11',end=data.index[-1].strftime(\"%Y-%m-%d\"),freq='b') \n",
    "df_pred = pd.DataFrame({'predictions':predictions},index=date_index)"
   ]
  },
  {
   "cell_type": "code",
   "execution_count": null,
   "id": "87a380d9",
   "metadata": {},
   "outputs": [],
   "source": [
    "plt.plot(df_pred,color='red',label='predictions')\n",
    "plt.plot(data.Close[window:],color='blue',label='original')\n",
    "plt.title('Original vs Predictions',size=20)\n",
    "plt.legend(loc='best');"
   ]
  },
  {
   "cell_type": "code",
   "execution_count": null,
   "id": "0e52d5ae",
   "metadata": {},
   "outputs": [],
   "source": [
    "from sklearn.metrics import mean_absolute_percentage_error,mean_absolute_error\n",
    "print(f\"Mean Absolute Error: {mean_absolute_error(data.Close[window:],predictions)}\")\n",
    "print(f\"Mean Absolute Percentage Error: {mean_absolute_percentage_error(data.Close[window:],predictions)}\")"
   ]
  }
 ],
 "metadata": {
  "kernelspec": {
   "display_name": "Python 3 (ipykernel)",
   "language": "python",
   "name": "python3"
  },
  "language_info": {
   "codemirror_mode": {
    "name": "ipython",
    "version": 3
   },
   "file_extension": ".py",
   "mimetype": "text/x-python",
   "name": "python",
   "nbconvert_exporter": "python",
   "pygments_lexer": "ipython3",
   "version": "3.9.13"
  }
 },
 "nbformat": 4,
 "nbformat_minor": 5
}
